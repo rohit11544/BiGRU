{
 "cells": [
  {
   "cell_type": "code",
   "execution_count": 1,
   "id": "c1d15762",
   "metadata": {},
   "outputs": [],
   "source": [
    "# !pip install pydot"
   ]
  },
  {
   "cell_type": "code",
   "execution_count": 2,
   "id": "bf859cbf",
   "metadata": {},
   "outputs": [],
   "source": [
    "import pandas as pd\n",
    "import numpy as np\n",
    "from sklearn.preprocessing import LabelEncoder"
   ]
  },
  {
   "cell_type": "markdown",
   "id": "72d0ec8a",
   "metadata": {},
   "source": [
    "#### LOAD DATASET"
   ]
  },
  {
   "cell_type": "code",
   "execution_count": 3,
   "id": "2326c157",
   "metadata": {},
   "outputs": [],
   "source": [
    "# helper functions\n",
    "def DataLoading (mypath):\n",
    "    print (\"Loading the data\")\n",
    "    dataframe = pd.read_csv(mypath,header = None,engine = 'python',sep=\",\")\n",
    "    return dataframe\n",
    "\n",
    "\n",
    "# column names\n",
    "def prepate_dataset(df):\n",
    "  column_names = [\"duration\", \"protocol_type\", \"service\", \"flag\" ,\"src_bytes\",\n",
    "                  \"dst_bytes\", \"land\", \"wrong_fragment\", \"urgent\", \"hot\", \"num_failed_logins\",\n",
    "                  \"logged_in\", \"num_compromised\", \"root_shell\", \"su_attempted\", \"num_root\", \n",
    "                  \"num_file_creations\", \"num_shells\", \"num_access_files\", \"num_outbound_cmds\",\n",
    "                  \"is_host_login\", \"is_guest_login\", \"count\", \"srv_count\", \"serror_rate\", \n",
    "                  \"srv_error_rate\", \"rerror_rate\", \"srv_rerror_rate\", \"same_srv_rate\", \n",
    "                  \"diff_srv_rate\", \"srv_diff_host_rate\", \"dst_host_count\", \"dst_host_srv_count\",\n",
    "                  \"dst_host_same_srv_rate\", \"dst_host_diff_srv_rate\", \"dst_host_same_src_port_rate\",\n",
    "                  \"dst_host_srv_diff_host_rate\", \"dst_host_serror_rate\", \"dst_host_srv_serror_rate\",\n",
    "                  \"dst_host_rerror_rate\", \"dst_host_srv_rerror_rate\", \"attack\", \"difficulty\"]\n",
    "\n",
    "  # assigning the column names\n",
    "  df.columns = column_names\n",
    "\n",
    "  # preparing class labels \n",
    "  df['class'] = df['attack'].replace(['back', 'land', 'neptune', 'pod','smurf', 'teardrop'],'attack') # Dos\n",
    "  df['class'] = df['class'].replace(['ipsweep', 'nmap','portsweep', 'satan'],'attack') # Probe\n",
    "  df['class'] = df['class'].replace(['buffer_overflow','loadmodule', 'perl','rootkit'],'attack') # U2R\n",
    "  df['class'] = df['class'].replace(['ftp_write', 'guess_passwd','imap', 'multihop', 'phf','spy', 'warezclient','warezmaster'],'attack') # R2L\n",
    "\n",
    "  # droping attacks column\n",
    "  df = df.drop(['attack'], axis=1)\n",
    "  df = df.drop(['difficulty'], axis=1)\n",
    "  # Creating a instance of label Encoder.\n",
    "  le = LabelEncoder()\n",
    "  \n",
    "  # Using .fit_transform function to fit label\n",
    "  # encoder and return encoded label\n",
    "  df['protocol_type'] = le.fit_transform(df['protocol_type'])\n",
    "  df['service'] = le.fit_transform(df['service'])\n",
    "  df['flag'] = le.fit_transform(df['flag'])\n",
    "  df['class'] = le.fit_transform(df['class'])\n",
    "\n",
    "  return df\n",
    "\n"
   ]
  },
  {
   "cell_type": "code",
   "execution_count": 4,
   "id": "28ab0133",
   "metadata": {},
   "outputs": [
    {
     "name": "stdout",
     "output_type": "stream",
     "text": [
      "Loading the data\n",
      "Loading the data\n"
     ]
    }
   ],
   "source": [
    "df_train = DataLoading(\"./NSL-KDD/KDDTrain+.txt\")\n",
    "df_train = prepate_dataset(df_train)\n",
    "\n",
    "\n",
    "df_val = DataLoading(\"./NSL-KDD/KDDTrain+_20Percent.txt\")\n",
    "df_val = prepate_dataset(df_val)"
   ]
  },
  {
   "cell_type": "markdown",
   "id": "e04743a0",
   "metadata": {},
   "source": [
    "#### Pre-Precess DATA"
   ]
  },
  {
   "cell_type": "code",
   "execution_count": 5,
   "id": "fb6b16bf",
   "metadata": {},
   "outputs": [
    {
     "name": "stdout",
     "output_type": "stream",
     "text": [
      "(125973, 41) (125973,) (25192, 41) (25192,)\n"
     ]
    }
   ],
   "source": [
    "# divide to train and test arrays \n",
    "\n",
    "x_train = df_train.drop(['class'], axis=1).to_numpy()\n",
    "y_train = df_train['class'].to_numpy()\n",
    "\n",
    "x_test = df_val.drop(['class'], axis=1).to_numpy()\n",
    "y_test = df_val['class'].to_numpy()\n",
    "\n",
    "print(x_train.shape, y_train.shape,  x_test.shape, y_test.shape)"
   ]
  },
  {
   "cell_type": "code",
   "execution_count": 6,
   "id": "5ee09534",
   "metadata": {},
   "outputs": [],
   "source": [
    "# normalize the data\n",
    "\n",
    "norm = np.linalg.norm(x_train)\n",
    "x_train = x_train/norm\n",
    "\n",
    "norm = np.linalg.norm(x_test)\n",
    "x_test = x_test/norm"
   ]
  },
  {
   "cell_type": "code",
   "execution_count": 7,
   "id": "a8c488f8",
   "metadata": {},
   "outputs": [],
   "source": [
    "# reshape to fit in lstm\n",
    "\n",
    "x_train = x_train.reshape((x_train.shape[0], x_train.shape[1], 1))\n",
    "x_test = x_test.reshape((x_test.shape[0], x_test.shape[1], 1))"
   ]
  },
  {
   "cell_type": "markdown",
   "id": "b4895432",
   "metadata": {},
   "source": [
    "#### LSTM"
   ]
  },
  {
   "cell_type": "code",
   "execution_count": 8,
   "id": "ace3f9af",
   "metadata": {},
   "outputs": [
    {
     "name": "stderr",
     "output_type": "stream",
     "text": [
      "2022-09-30 05:27:17.449836: I tensorflow/core/platform/cpu_feature_guard.cc:193] This TensorFlow binary is optimized with oneAPI Deep Neural Network Library (oneDNN) to use the following CPU instructions in performance-critical operations:  AVX2 FMA\n",
      "To enable them in other operations, rebuild TensorFlow with the appropriate compiler flags.\n"
     ]
    }
   ],
   "source": [
    "import tensorflow as tf\n",
    "from tensorflow.keras.models import Sequential\n",
    "from tensorflow.keras.layers import Dense, Dropout, GRU, Bidirectional, Flatten,Embedding\n",
    "from keras.utils import plot_model"
   ]
  },
  {
   "cell_type": "code",
   "execution_count": 9,
   "id": "bf6cee1a",
   "metadata": {},
   "outputs": [
    {
     "name": "stderr",
     "output_type": "stream",
     "text": [
      "2022-09-30 05:27:20.362184: I tensorflow/core/platform/cpu_feature_guard.cc:193] This TensorFlow binary is optimized with oneAPI Deep Neural Network Library (oneDNN) to use the following CPU instructions in performance-critical operations:  AVX2 FMA\n",
      "To enable them in other operations, rebuild TensorFlow with the appropriate compiler flags.\n"
     ]
    }
   ],
   "source": [
    "model = Sequential()\n",
    "model.add(Bidirectional(GRU(64, return_sequences=True),input_shape=(41, 1)))\n",
    "model.add(Dropout(0.2))\n",
    "\n",
    "\n",
    "model.add(Bidirectional(GRU(32)))\n",
    "model.add(Dropout(0.2))\n",
    "\n",
    "\n",
    "model.add(Dense(64, activation='relu'))\n",
    "model.add(Dropout(0.2))\n",
    "\n",
    "model.add(Dense(64, activation='relu'))\n",
    "model.add(Dropout(0.2))\n",
    "\n",
    "model.add(Dense(1, activation='sigmoid'))"
   ]
  },
  {
   "cell_type": "code",
   "execution_count": 10,
   "id": "0c864405",
   "metadata": {},
   "outputs": [
    {
     "name": "stdout",
     "output_type": "stream",
     "text": [
      "Model: \"sequential\"\n",
      "_________________________________________________________________\n",
      " Layer (type)                Output Shape              Param #   \n",
      "=================================================================\n",
      " bidirectional (Bidirectiona  (None, 41, 128)          25728     \n",
      " l)                                                              \n",
      "                                                                 \n",
      " dropout (Dropout)           (None, 41, 128)           0         \n",
      "                                                                 \n",
      " bidirectional_1 (Bidirectio  (None, 64)               31104     \n",
      " nal)                                                            \n",
      "                                                                 \n",
      " dropout_1 (Dropout)         (None, 64)                0         \n",
      "                                                                 \n",
      " dense (Dense)               (None, 64)                4160      \n",
      "                                                                 \n",
      " dropout_2 (Dropout)         (None, 64)                0         \n",
      "                                                                 \n",
      " dense_1 (Dense)             (None, 64)                4160      \n",
      "                                                                 \n",
      " dropout_3 (Dropout)         (None, 64)                0         \n",
      "                                                                 \n",
      " dense_2 (Dense)             (None, 1)                 65        \n",
      "                                                                 \n",
      "=================================================================\n",
      "Total params: 65,217\n",
      "Trainable params: 65,217\n",
      "Non-trainable params: 0\n",
      "_________________________________________________________________\n"
     ]
    }
   ],
   "source": [
    "model.summary()"
   ]
  },
  {
   "cell_type": "code",
   "execution_count": 12,
   "id": "7e7958a3",
   "metadata": {
    "scrolled": false
   },
   "outputs": [
    {
     "name": "stdout",
     "output_type": "stream",
     "text": [
      "Epoch 1/100\n",
      "3937/3937 [==============================] - 135s 32ms/step - loss: 0.6751 - accuracy: 0.102 - val_loss: 0.677 - val_accuracy: 0.1077\n",
      "Epoch 2/100\n",
      "3937/3937 [==============================] - 132s 32ms/step - loss: 0.6697 - accuracy: 0.106 - val_loss: 0.6753 - val_accuracy: 0.1108\n",
      "Epoch 3/100\n",
      "3937/3937 [==============================] - 130s 32ms/step - loss: 0.6646 - accuracy: 0.1132 - val_loss: 0.6654 - val_accuracy: 0.1169\n",
      "Epoch 4/100\n",
      "3937/3937 [==============================] - 131s 32ms/step - loss: 0.6585 - accuracy: 0.1186 - val_loss: 0.6575 - val_accuracy: 0.1256\n",
      "Epoch 5/100\n",
      "3937/3937 [==============================] - 138s 32ms/step - loss: 0.6572 - accuracy: 0.128 - val_loss: 0.6506 - val_accuracy: 0.1327\n",
      "Epoch 6/100\n",
      "3937/3937 [==============================] - 138s 32ms/step - loss: 0.6473 - accuracy: 0.1317 - val_loss: 0.6463 - val_accuracy: 0.1384\n",
      "Epoch 7/100\n",
      "3937/3937 [==============================] - 132s 32ms/step - loss: 0.6392 - accuracy: 0.1342 - val_loss: 0.6384 - val_accuracy: 0.1399\n",
      "Epoch 8/100\n",
      "3937/3937 [==============================] - 135s 32ms/step - loss: 0.6342 - accuracy: 0.1407 - val_loss: 0.6364 - val_accuracy: 0.148\n",
      "Epoch 9/100\n",
      "3937/3937 [==============================] - 135s 32ms/step - loss: 0.6253 - accuracy: 0.1425 - val_loss: 0.6351 - val_accuracy: 0.1575\n",
      "Epoch 10/100\n",
      "3937/3937 [==============================] - 132s 32ms/step - loss: 0.6223 - accuracy: 0.1516 - val_loss: 0.6271 - val_accuracy: 0.1612\n",
      "Epoch 11/100\n",
      "3937/3937 [==============================] - 132s 32ms/step - loss: 0.6185 - accuracy: 0.1606 - val_loss: 0.6237 - val_accuracy: 0.1661\n",
      "Epoch 12/100\n",
      "3937/3937 [==============================] - 130s 32ms/step - loss: 0.6144 - accuracy: 0.1684 - val_loss: 0.6172 - val_accuracy: 0.1716\n",
      "Epoch 13/100\n",
      "3937/3937 [==============================] - 139s 32ms/step - loss: 0.6137 - accuracy: 0.1772 - val_loss: 0.6148 - val_accuracy: 0.1782\n",
      "Epoch 14/100\n",
      "3937/3937 [==============================] - 137s 32ms/step - loss: 0.6053 - accuracy: 0.178 - val_loss: 0.6142 - val_accuracy: 0.1807\n",
      "Epoch 15/100\n",
      "3937/3937 [==============================] - 132s 32ms/step - loss: 0.5964 - accuracy: 0.1836 - val_loss: 0.6111 - val_accuracy: 0.19\n",
      "Epoch 16/100\n",
      "3937/3937 [==============================] - 139s 32ms/step - loss: 0.5865 - accuracy: 0.1909 - val_loss: 0.6067 - val_accuracy: 0.1997\n",
      "Epoch 17/100\n",
      "3937/3937 [==============================] - 133s 32ms/step - loss: 0.5818 - accuracy: 0.1977 - val_loss: 0.597 - val_accuracy: 0.2025\n",
      "Epoch 18/100\n",
      "3937/3937 [==============================] - 135s 32ms/step - loss: 0.5758 - accuracy: 0.2077 - val_loss: 0.5956 - val_accuracy: 0.209\n",
      "Epoch 19/100\n",
      "3937/3937 [==============================] - 136s 32ms/step - loss: 0.5717 - accuracy: 0.2086 - val_loss: 0.5946 - val_accuracy: 0.2184\n",
      "Epoch 20/100\n",
      "3937/3937 [==============================] - 133s 32ms/step - loss: 0.564 - accuracy: 0.2104 - val_loss: 0.5858 - val_accuracy: 0.2262\n",
      "Epoch 21/100\n",
      "3937/3937 [==============================] - 138s 32ms/step - loss: 0.5601 - accuracy: 0.211 - val_loss: 0.5786 - val_accuracy: 0.2275\n",
      "Epoch 22/100\n",
      "3937/3937 [==============================] - 138s 32ms/step - loss: 0.5539 - accuracy: 0.2111 - val_loss: 0.5762 - val_accuracy: 0.2278\n",
      "Epoch 23/100\n",
      "3937/3937 [==============================] - 130s 32ms/step - loss: 0.551 - accuracy: 0.2144 - val_loss: 0.5736 - val_accuracy: 0.2378\n",
      "Epoch 24/100\n",
      "3937/3937 [==============================] - 138s 32ms/step - loss: 0.5483 - accuracy: 0.2185 - val_loss: 0.5697 - val_accuracy: 0.2397\n",
      "Epoch 25/100\n",
      "3937/3937 [==============================] - 131s 32ms/step - loss: 0.5407 - accuracy: 0.2232 - val_loss: 0.5629 - val_accuracy: 0.24\n",
      "Epoch 26/100\n",
      "3937/3937 [==============================] - 137s 32ms/step - loss: 0.5349 - accuracy: 0.2236 - val_loss: 0.553 - val_accuracy: 0.2445\n",
      "Epoch 27/100\n",
      "3937/3937 [==============================] - 138s 32ms/step - loss: 0.525 - accuracy: 0.2303 - val_loss: 0.5431 - val_accuracy: 0.2453\n",
      "Epoch 28/100\n",
      "3937/3937 [==============================] - 130s 32ms/step - loss: 0.5205 - accuracy: 0.2383 - val_loss: 0.54 - val_accuracy: 0.2522\n",
      "Epoch 29/100\n",
      "3937/3937 [==============================] - 134s 32ms/step - loss: 0.5179 - accuracy: 0.2389 - val_loss: 0.5301 - val_accuracy: 0.2611\n",
      "Epoch 30/100\n",
      "3937/3937 [==============================] - 133s 32ms/step - loss: 0.5092 - accuracy: 0.245 - val_loss: 0.5245 - val_accuracy: 0.2642\n",
      "Epoch 31/100\n",
      "3937/3937 [==============================] - 130s 32ms/step - loss: 0.5006 - accuracy: 0.2523 - val_loss: 0.5176 - val_accuracy: 0.2739\n",
      "Epoch 32/100\n",
      "3937/3937 [==============================] - 136s 32ms/step - loss: 0.4983 - accuracy: 0.2601 - val_loss: 0.5142 - val_accuracy: 0.2793\n",
      "Epoch 33/100\n",
      "3937/3937 [==============================] - 137s 32ms/step - loss: 0.4936 - accuracy: 0.2639 - val_loss: 0.5117 - val_accuracy: 0.2886\n",
      "Epoch 34/100\n",
      "3937/3937 [==============================] - 132s 32ms/step - loss: 0.4897 - accuracy: 0.2673 - val_loss: 0.5115 - val_accuracy: 0.2918\n",
      "Epoch 35/100\n",
      "3937/3937 [==============================] - 138s 32ms/step - loss: 0.4824 - accuracy: 0.2698 - val_loss: 0.505 - val_accuracy: 0.2998\n",
      "Epoch 36/100\n",
      "3937/3937 [==============================] - 135s 32ms/step - loss: 0.4811 - accuracy: 0.2699 - val_loss: 0.5009 - val_accuracy: 0.3069\n",
      "Epoch 37/100\n",
      "3937/3937 [==============================] - 132s 32ms/step - loss: 0.4805 - accuracy: 0.2739 - val_loss: 0.5003 - val_accuracy: 0.3093\n",
      "Epoch 38/100\n",
      "3937/3937 [==============================] - 134s 32ms/step - loss: 0.4748 - accuracy: 0.2755 - val_loss: 0.4938 - val_accuracy: 0.3175\n",
      "Epoch 39/100\n",
      "3937/3937 [==============================] - 132s 32ms/step - loss: 0.4733 - accuracy: 0.2771 - val_loss: 0.4937 - val_accuracy: 0.3183\n",
      "Epoch 40/100\n",
      "3937/3937 [==============================] - 133s 32ms/step - loss: 0.4699 - accuracy: 0.2813 - val_loss: 0.4906 - val_accuracy: 0.3227\n",
      "Epoch 41/100\n",
      "3937/3937 [==============================] - 139s 32ms/step - loss: 0.4661 - accuracy: 0.2855 - val_loss: 0.4847 - val_accuracy: 0.3274\n",
      "Epoch 42/100\n",
      "3937/3937 [==============================] - 137s 32ms/step - loss: 0.4639 - accuracy: 0.2951 - val_loss: 0.475 - val_accuracy: 0.3352\n",
      "Epoch 43/100\n",
      "3937/3937 [==============================] - 134s 32ms/step - loss: 0.4571 - accuracy: 0.3036 - val_loss: 0.465 - val_accuracy: 0.3359\n",
      "Epoch 44/100\n",
      "3937/3937 [==============================] - 131s 32ms/step - loss: 0.4528 - accuracy: 0.3072 - val_loss: 0.4603 - val_accuracy: 0.3413\n",
      "Epoch 45/100\n",
      "3937/3937 [==============================] - 139s 32ms/step - loss: 0.4524 - accuracy: 0.3114 - val_loss: 0.4569 - val_accuracy: 0.3417\n",
      "Epoch 46/100\n",
      "3937/3937 [==============================] - 137s 32ms/step - loss: 0.4429 - accuracy: 0.3149 - val_loss: 0.4481 - val_accuracy: 0.348\n",
      "Epoch 47/100\n",
      "3937/3937 [==============================] - 130s 32ms/step - loss: 0.4354 - accuracy: 0.324 - val_loss: 0.4467 - val_accuracy: 0.3487\n",
      "Epoch 48/100\n",
      "3937/3937 [==============================] - 130s 32ms/step - loss: 0.4269 - accuracy: 0.3256 - val_loss: 0.4442 - val_accuracy: 0.3545\n",
      "Epoch 49/100\n",
      "3937/3937 [==============================] - 132s 32ms/step - loss: 0.4191 - accuracy: 0.3335 - val_loss: 0.4345 - val_accuracy: 0.3551\n",
      "Epoch 50/100\n",
      "3937/3937 [==============================] - 130s 32ms/step - loss: 0.4128 - accuracy: 0.3394 - val_loss: 0.432 - val_accuracy: 0.3576\n",
      "Epoch 51/100\n",
      "3937/3937 [==============================] - 134s 32ms/step - loss: 0.412 - accuracy: 0.3446 - val_loss: 0.4259 - val_accuracy: 0.3675\n",
      "Epoch 52/100\n",
      "3937/3937 [==============================] - 132s 32ms/step - loss: 0.4062 - accuracy: 0.3517 - val_loss: 0.4226 - val_accuracy: 0.3769\n",
      "Epoch 53/100\n",
      "3937/3937 [==============================] - 135s 32ms/step - loss: 0.3981 - accuracy: 0.3568 - val_loss: 0.4148 - val_accuracy: 0.3816\n",
      "Epoch 54/100\n",
      "3937/3937 [==============================] - 134s 32ms/step - loss: 0.3917 - accuracy: 0.3621 - val_loss: 0.4055 - val_accuracy: 0.3829\n",
      "Epoch 55/100\n",
      "3937/3937 [==============================] - 134s 32ms/step - loss: 0.3912 - accuracy: 0.3626 - val_loss: 0.399 - val_accuracy: 0.3923\n",
      "Epoch 56/100\n",
      "3937/3937 [==============================] - 139s 32ms/step - loss: 0.3898 - accuracy: 0.366 - val_loss: 0.3901 - val_accuracy: 0.4023\n",
      "Epoch 57/100\n",
      "3937/3937 [==============================] - 131s 32ms/step - loss: 0.382 - accuracy: 0.368 - val_loss: 0.3865 - val_accuracy: 0.4028\n",
      "Epoch 58/100\n",
      "3937/3937 [==============================] - 138s 32ms/step - loss: 0.3778 - accuracy: 0.3713 - val_loss: 0.3829 - val_accuracy: 0.4077\n",
      "Epoch 59/100\n",
      "3937/3937 [==============================] - 137s 32ms/step - loss: 0.3718 - accuracy: 0.3756 - val_loss: 0.3764 - val_accuracy: 0.4173\n",
      "Epoch 60/100\n",
      "3937/3937 [==============================] - 130s 32ms/step - loss: 0.3702 - accuracy: 0.384 - val_loss: 0.3745 - val_accuracy: 0.4242\n",
      "Epoch 61/100\n",
      "3937/3937 [==============================] - 138s 32ms/step - loss: 0.3673 - accuracy: 0.3872 - val_loss: 0.3714 - val_accuracy: 0.4305\n",
      "Epoch 62/100\n",
      "3937/3937 [==============================] - 139s 32ms/step - loss: 0.3633 - accuracy: 0.3886 - val_loss: 0.3662 - val_accuracy: 0.4405\n",
      "Epoch 63/100\n",
      "3937/3937 [==============================] - 132s 32ms/step - loss: 0.3629 - accuracy: 0.3917 - val_loss: 0.3576 - val_accuracy: 0.4479\n",
      "Epoch 64/100\n",
      "3937/3937 [==============================] - 136s 32ms/step - loss: 0.3552 - accuracy: 0.3988 - val_loss: 0.3526 - val_accuracy: 0.4534\n",
      "Epoch 65/100\n",
      "3937/3937 [==============================] - 137s 32ms/step - loss: 0.3511 - accuracy: 0.4016 - val_loss: 0.3463 - val_accuracy: 0.4621\n",
      "Epoch 66/100\n",
      "3937/3937 [==============================] - 135s 32ms/step - loss: 0.349 - accuracy: 0.4113 - val_loss: 0.3402 - val_accuracy: 0.4635\n",
      "Epoch 67/100\n",
      "3937/3937 [==============================] - 138s 32ms/step - loss: 0.3437 - accuracy: 0.4173 - val_loss: 0.3364 - val_accuracy: 0.4679\n",
      "Epoch 68/100\n",
      "3937/3937 [==============================] - 136s 32ms/step - loss: 0.3342 - accuracy: 0.4244 - val_loss: 0.3297 - val_accuracy: 0.4717\n",
      "Epoch 69/100\n",
      "3937/3937 [==============================] - 137s 32ms/step - loss: 0.3331 - accuracy: 0.4318 - val_loss: 0.3251 - val_accuracy: 0.4752\n",
      "Epoch 70/100\n",
      "3937/3937 [==============================] - 139s 32ms/step - loss: 0.3316 - accuracy: 0.4365 - val_loss: 0.3163 - val_accuracy: 0.4795\n",
      "Epoch 71/100\n",
      "3937/3937 [==============================] - 139s 32ms/step - loss: 0.3285 - accuracy: 0.4398 - val_loss: 0.3138 - val_accuracy: 0.4818\n",
      "Epoch 72/100\n",
      "3937/3937 [==============================] - 130s 32ms/step - loss: 0.324 - accuracy: 0.4444 - val_loss: 0.3063 - val_accuracy: 0.4908\n",
      "Epoch 73/100\n",
      "3937/3937 [==============================] - 130s 32ms/step - loss: 0.3177 - accuracy: 0.4475 - val_loss: 0.2964 - val_accuracy: 0.4935\n",
      "Epoch 74/100\n",
      "3937/3937 [==============================] - 138s 32ms/step - loss: 0.3094 - accuracy: 0.4491 - val_loss: 0.2895 - val_accuracy: 0.4957\n",
      "Epoch 75/100\n",
      "3937/3937 [==============================] - 134s 32ms/step - loss: 0.3081 - accuracy: 0.4537 - val_loss: 0.28 - val_accuracy: 0.5024\n",
      "Epoch 76/100\n",
      "3937/3937 [==============================] - 132s 32ms/step - loss: 0.3065 - accuracy: 0.4634 - val_loss: 0.2725 - val_accuracy: 0.5065\n",
      "Epoch 77/100\n",
      "3937/3937 [==============================] - 137s 32ms/step - loss: 0.2984 - accuracy: 0.47 - val_loss: 0.2688 - val_accuracy: 0.5127\n",
      "Epoch 78/100\n",
      "3937/3937 [==============================] - 133s 32ms/step - loss: 0.291 - accuracy: 0.4767 - val_loss: 0.2664 - val_accuracy: 0.5201\n",
      "Epoch 79/100\n",
      "3937/3937 [==============================] - 138s 32ms/step - loss: 0.2812 - accuracy: 0.4814 - val_loss: 0.2626 - val_accuracy: 0.5248\n",
      "Epoch 80/100\n",
      "3937/3937 [==============================] - 134s 32ms/step - loss: 0.2744 - accuracy: 0.4844 - val_loss: 0.2615 - val_accuracy: 0.5326\n",
      "Epoch 81/100\n",
      "3937/3937 [==============================] - 136s 32ms/step - loss: 0.2694 - accuracy: 0.4867 - val_loss: 0.2592 - val_accuracy: 0.541\n",
      "Epoch 82/100\n",
      "3937/3937 [==============================] - 137s 32ms/step - loss: 0.261 - accuracy: 0.489 - val_loss: 0.2523 - val_accuracy: 0.5449\n",
      "Epoch 83/100\n",
      "3937/3937 [==============================] - 136s 32ms/step - loss: 0.2547 - accuracy: 0.4909 - val_loss: 0.2437 - val_accuracy: 0.548\n",
      "Epoch 84/100\n",
      "3937/3937 [==============================] - 135s 32ms/step - loss: 0.2447 - accuracy: 0.496 - val_loss: 0.2437 - val_accuracy: 0.555\n",
      "Epoch 85/100\n",
      "3937/3937 [==============================] - 132s 32ms/step - loss: 0.2367 - accuracy: 0.5036 - val_loss: 0.2427 - val_accuracy: 0.5599\n",
      "Epoch 86/100\n",
      "3937/3937 [==============================] - 135s 32ms/step - loss: 0.229 - accuracy: 0.5067 - val_loss: 0.2384 - val_accuracy: 0.5644\n",
      "Epoch 87/100\n",
      "3937/3937 [==============================] - 130s 32ms/step - loss: 0.221 - accuracy: 0.5158 - val_loss: 0.2294 - val_accuracy: 0.5668\n",
      "Epoch 88/100\n",
      "3937/3937 [==============================] - 136s 32ms/step - loss: 0.2158 - accuracy: 0.5236 - val_loss: 0.2248 - val_accuracy: 0.5708\n",
      "Epoch 89/100\n",
      "3937/3937 [==============================] - 135s 32ms/step - loss: 0.2135 - accuracy: 0.5277 - val_loss: 0.2197 - val_accuracy: 0.5759\n",
      "Epoch 90/100\n",
      "3937/3937 [==============================] - 138s 32ms/step - loss: 0.213 - accuracy: 0.5373 - val_loss: 0.2105 - val_accuracy: 0.5836\n",
      "Epoch 91/100\n",
      "3937/3937 [==============================] - 134s 32ms/step - loss: 0.2059 - accuracy: 0.5462 - val_loss: 0.201 - val_accuracy: 0.5899\n",
      "Epoch 92/100\n",
      "3937/3937 [==============================] - 130s 32ms/step - loss: 0.2048 - accuracy: 0.5559 - val_loss: 0.194 - val_accuracy: 0.591\n",
      "Epoch 93/100\n",
      "3937/3937 [==============================] - 134s 32ms/step - loss: 0.1967 - accuracy: 0.5567 - val_loss: 0.1843 - val_accuracy: 0.6004\n",
      "Epoch 94/100\n",
      "3937/3937 [==============================] - 130s 32ms/step - loss: 0.1929 - accuracy: 0.5621 - val_loss: 0.1798 - val_accuracy: 0.6037\n",
      "Epoch 95/100\n",
      "3937/3937 [==============================] - 134s 32ms/step - loss: 0.1846 - accuracy: 0.5716 - val_loss: 0.1756 - val_accuracy: 0.6135\n",
      "Epoch 96/100\n",
      "3937/3937 [==============================] - 133s 32ms/step - loss: 0.1751 - accuracy: 0.5748 - val_loss: 0.168 - val_accuracy: 0.6181\n",
      "Epoch 97/100\n",
      "3937/3937 [==============================] - 137s 32ms/step - loss: 0.1691 - accuracy: 0.5801 - val_loss: 0.1611 - val_accuracy: 0.6249\n",
      "Epoch 98/100\n",
      "3937/3937 [==============================] - 130s 32ms/step - loss: 0.1592 - accuracy: 0.5824 - val_loss: 0.1545 - val_accuracy: 0.632\n",
      "Epoch 99/100\n",
      "3937/3937 [==============================] - 137s 32ms/step - loss: 0.1501 - accuracy: 0.5917 - val_loss: 0.1461 - val_accuracy: 0.6324\n",
      "Epoch 100/100\n",
      "3937/3937 [==============================] - 135s 32ms/step - loss: 0.1412 - accuracy: 0.5979 - val_loss: 0.1396 - val_accuracy: 0.633\n"
     ]
    }
   ],
   "source": [
    "opt = tf.keras.optimizers.Adam(learning_rate=0.001, decay=1e-6)\n",
    "\n",
    "model.compile(\n",
    "    loss='binary_crossentropy',\n",
    "    optimizer=opt,\n",
    "    metrics=['accuracy'],\n",
    ")\n",
    "\n",
    "model.fit(x_train,\n",
    "          y_train,\n",
    "          epochs=100,\n",
    "          validation_data=(x_test, y_test))\n"
   ]
  },
  {
   "cell_type": "code",
   "execution_count": null,
   "id": "96635c43",
   "metadata": {},
   "outputs": [],
   "source": []
  }
 ],
 "metadata": {
  "kernelspec": {
   "display_name": "Python 3 (ipykernel)",
   "language": "python",
   "name": "python3"
  },
  "language_info": {
   "codemirror_mode": {
    "name": "ipython",
    "version": 3
   },
   "file_extension": ".py",
   "mimetype": "text/x-python",
   "name": "python",
   "nbconvert_exporter": "python",
   "pygments_lexer": "ipython3",
   "version": "3.10.5"
  }
 },
 "nbformat": 4,
 "nbformat_minor": 5
}
