{
 "cells": [
  {
   "cell_type": "code",
   "execution_count": 1,
   "id": "c1d15762",
   "metadata": {},
   "outputs": [],
   "source": [
    "# !pip install pydot"
   ]
  },
  {
   "cell_type": "code",
   "execution_count": 2,
   "id": "bf859cbf",
   "metadata": {},
   "outputs": [],
   "source": [
    "import pandas as pd\n",
    "import numpy as np\n",
    "from sklearn.preprocessing import LabelEncoder"
   ]
  },
  {
   "cell_type": "markdown",
   "id": "72d0ec8a",
   "metadata": {},
   "source": [
    "#### LOAD DATASET"
   ]
  },
  {
   "cell_type": "code",
   "execution_count": 3,
   "id": "2326c157",
   "metadata": {},
   "outputs": [],
   "source": [
    "# helper functions\n",
    "def DataLoading (mypath):\n",
    "    print (\"Loading the data\")\n",
    "    dataframe = pd.read_csv(mypath,header = None,engine = 'python',sep=\",\")\n",
    "    return dataframe\n",
    "\n",
    "\n",
    "# column names\n",
    "def prepate_dataset(df):\n",
    "  column_names = [\"duration\", \"protocol_type\", \"service\", \"flag\" ,\"src_bytes\",\n",
    "                  \"dst_bytes\", \"land\", \"wrong_fragment\", \"urgent\", \"hot\", \"num_failed_logins\",\n",
    "                  \"logged_in\", \"num_compromised\", \"root_shell\", \"su_attempted\", \"num_root\", \n",
    "                  \"num_file_creations\", \"num_shells\", \"num_access_files\", \"num_outbound_cmds\",\n",
    "                  \"is_host_login\", \"is_guest_login\", \"count\", \"srv_count\", \"serror_rate\", \n",
    "                  \"srv_error_rate\", \"rerror_rate\", \"srv_rerror_rate\", \"same_srv_rate\", \n",
    "                  \"diff_srv_rate\", \"srv_diff_host_rate\", \"dst_host_count\", \"dst_host_srv_count\",\n",
    "                  \"dst_host_same_srv_rate\", \"dst_host_diff_srv_rate\", \"dst_host_same_src_port_rate\",\n",
    "                  \"dst_host_srv_diff_host_rate\", \"dst_host_serror_rate\", \"dst_host_srv_serror_rate\",\n",
    "                  \"dst_host_rerror_rate\", \"dst_host_srv_rerror_rate\", \"attack\", \"difficulty\"]\n",
    "\n",
    "  # assigning the column names\n",
    "  df.columns = column_names\n",
    "\n",
    "  # preparing class labels \n",
    "  df['class'] = df['attack'].replace(['back', 'land', 'neptune', 'pod','smurf', 'teardrop'],'attack') # Dos\n",
    "  df['class'] = df['class'].replace(['ipsweep', 'nmap','portsweep', 'satan'],'attack') # Probe\n",
    "  df['class'] = df['class'].replace(['buffer_overflow','loadmodule', 'perl','rootkit'],'attack') # U2R\n",
    "  df['class'] = df['class'].replace(['ftp_write', 'guess_passwd','imap', 'multihop', 'phf','spy', 'warezclient','warezmaster'],'attack') # R2L\n",
    "\n",
    "  # droping attacks column\n",
    "  df = df.drop(['attack'], axis=1)\n",
    "  df = df.drop(['difficulty'], axis=1)\n",
    "  # Creating a instance of label Encoder.\n",
    "  le = LabelEncoder()\n",
    "  \n",
    "  # Using .fit_transform function to fit label\n",
    "  # encoder and return encoded label\n",
    "  df['protocol_type'] = le.fit_transform(df['protocol_type'])\n",
    "  df['service'] = le.fit_transform(df['service'])\n",
    "  df['flag'] = le.fit_transform(df['flag'])\n",
    "  df['class'] = le.fit_transform(df['class'])\n",
    "\n",
    "  return df\n",
    "\n"
   ]
  },
  {
   "cell_type": "code",
   "execution_count": 4,
   "id": "28ab0133",
   "metadata": {},
   "outputs": [
    {
     "name": "stdout",
     "output_type": "stream",
     "text": [
      "Loading the data\n",
      "Loading the data\n"
     ]
    }
   ],
   "source": [
    "df_train = DataLoading(\"./NSL-KDD/KDDTrain+.txt\")\n",
    "df_train = prepate_dataset(df_train)\n",
    "\n",
    "\n",
    "df_val = DataLoading(\"./NSL-KDD/KDDTrain+_20Percent.txt\")\n",
    "df_val = prepate_dataset(df_val)"
   ]
  },
  {
   "cell_type": "markdown",
   "id": "e04743a0",
   "metadata": {},
   "source": [
    "#### Pre-Precess DATA"
   ]
  },
  {
   "cell_type": "code",
   "execution_count": 5,
   "id": "fb6b16bf",
   "metadata": {},
   "outputs": [
    {
     "name": "stdout",
     "output_type": "stream",
     "text": [
      "(125973, 41) (125973,) (25192, 41) (25192,)\n"
     ]
    }
   ],
   "source": [
    "# divide to train and test arrays \n",
    "\n",
    "x_train = df_train.drop(['class'], axis=1).to_numpy()\n",
    "y_train = df_train['class'].to_numpy()\n",
    "\n",
    "x_test = df_val.drop(['class'], axis=1).to_numpy()\n",
    "y_test = df_val['class'].to_numpy()\n",
    "\n",
    "print(x_train.shape, y_train.shape,  x_test.shape, y_test.shape)"
   ]
  },
  {
   "cell_type": "code",
   "execution_count": 6,
   "id": "5ee09534",
   "metadata": {},
   "outputs": [],
   "source": [
    "# normalize the data\n",
    "\n",
    "norm = np.linalg.norm(x_train)\n",
    "x_train = x_train/norm\n",
    "\n",
    "norm = np.linalg.norm(x_test)\n",
    "x_test = x_test/norm"
   ]
  },
  {
   "cell_type": "code",
   "execution_count": 7,
   "id": "a8c488f8",
   "metadata": {},
   "outputs": [],
   "source": [
    "# reshape to fit in gru\n",
    "\n",
    "x_train = x_train.reshape((x_train.shape[0], x_train.shape[1], 1))\n",
    "x_test = x_test.reshape((x_test.shape[0], x_test.shape[1], 1))"
   ]
  },
  {
   "cell_type": "markdown",
   "id": "b4895432",
   "metadata": {},
   "source": [
    "#### BiGRU"
   ]
  },
  {
   "cell_type": "code",
   "execution_count": 8,
   "id": "ace3f9af",
   "metadata": {},
   "outputs": [
    {
     "name": "stderr",
     "output_type": "stream",
     "text": [
      "2022-09-30 05:25:00.190754: I tensorflow/core/platform/cpu_feature_guard.cc:193] This TensorFlow binary is optimized with oneAPI Deep Neural Network Library (oneDNN) to use the following CPU instructions in performance-critical operations:  AVX2 FMA\n",
      "To enable them in other operations, rebuild TensorFlow with the appropriate compiler flags.\n"
     ]
    }
   ],
   "source": [
    "import tensorflow as tf\n",
    "from tensorflow.keras.models import Sequential\n",
    "from tensorflow.keras.layers import Dense, Dropout, GRU, Bidirectional, Flatten,Embedding\n",
    "from keras.utils import plot_model"
   ]
  },
  {
   "cell_type": "code",
   "execution_count": 9,
   "id": "bf6cee1a",
   "metadata": {},
   "outputs": [
    {
     "name": "stderr",
     "output_type": "stream",
     "text": [
      "2022-09-30 05:25:03.404138: I tensorflow/core/platform/cpu_feature_guard.cc:193] This TensorFlow binary is optimized with oneAPI Deep Neural Network Library (oneDNN) to use the following CPU instructions in performance-critical operations:  AVX2 FMA\n",
      "To enable them in other operations, rebuild TensorFlow with the appropriate compiler flags.\n"
     ]
    }
   ],
   "source": [
    "model = Sequential()\n",
    "model.add(Bidirectional(GRU(64, return_sequences=True),input_shape=(41, 1)))\n",
    "model.add(Dropout(0.2))\n",
    "\n",
    "\n",
    "model.add(Bidirectional(GRU(32)))\n",
    "model.add(Dropout(0.2))\n",
    "\n",
    "model.add(Dense(64, activation='relu'))\n",
    "model.add(Dropout(0.2))\n",
    "\n",
    "model.add(Dense(1, activation='relu'))\n",
    "model.add(Dropout(0.2))\n",
    "\n",
    "model.add(Dense(1, activation='sigmoid'))"
   ]
  },
  {
   "cell_type": "code",
   "execution_count": 10,
   "id": "0c864405",
   "metadata": {},
   "outputs": [
    {
     "name": "stdout",
     "output_type": "stream",
     "text": [
      "Model: \"sequential\"\n",
      "_________________________________________________________________\n",
      " Layer (type)                Output Shape              Param #   \n",
      "=================================================================\n",
      " bidirectional (Bidirectiona  (None, 41, 128)          25728     \n",
      " l)                                                              \n",
      "                                                                 \n",
      " dropout (Dropout)           (None, 41, 128)           0         \n",
      "                                                                 \n",
      " bidirectional_1 (Bidirectio  (None, 64)               31104     \n",
      " nal)                                                            \n",
      "                                                                 \n",
      " dropout_1 (Dropout)         (None, 64)                0         \n",
      "                                                                 \n",
      " dense (Dense)               (None, 64)                4160      \n",
      "                                                                 \n",
      " dropout_2 (Dropout)         (None, 64)                0         \n",
      "                                                                 \n",
      " dense_1 (Dense)             (None, 1)                 65        \n",
      "                                                                 \n",
      " dropout_3 (Dropout)         (None, 1)                 0         \n",
      "                                                                 \n",
      " dense_2 (Dense)             (None, 1)                 2         \n",
      "                                                                 \n",
      "=================================================================\n",
      "Total params: 61,059\n",
      "Trainable params: 61,059\n",
      "Non-trainable params: 0\n",
      "_________________________________________________________________\n"
     ]
    }
   ],
   "source": [
    "model.summary()"
   ]
  },
  {
   "cell_type": "code",
   "execution_count": 13,
   "id": "7e7958a3",
   "metadata": {
    "scrolled": false
   },
   "outputs": [
    {
     "name": "stdout",
     "output_type": "stream",
     "text": [
      "Epoch 1/100\n",
      "3937/3937 [==============================] - 130s 32ms/step - loss: 0.6724 - accuracy: 0.1016 - val_loss: 0.6757 - val_accuracy: 0.1031\n",
      "Epoch 2/100\n",
      "3937/3937 [==============================] - 133s 32ms/step - loss: 0.6654 - accuracy: 0.1055 - val_loss: 0.6738 - val_accuracy: 0.1112\n",
      "Epoch 3/100\n",
      "3937/3937 [==============================] - 135s 32ms/step - loss: 0.6589 - accuracy: 0.1124 - val_loss: 0.6676 - val_accuracy: 0.1113\n",
      "Epoch 4/100\n",
      "3937/3937 [==============================] - 139s 32ms/step - loss: 0.653 - accuracy: 0.1192 - val_loss: 0.6669 - val_accuracy: 0.1143\n",
      "Epoch 5/100\n",
      "3937/3937 [==============================] - 133s 32ms/step - loss: 0.6511 - accuracy: 0.129 - val_loss: 0.6667 - val_accuracy: 0.1229\n",
      "Epoch 6/100\n",
      "3937/3937 [==============================] - 133s 32ms/step - loss: 0.6412 - accuracy: 0.1385 - val_loss: 0.6656 - val_accuracy: 0.1238\n",
      "Epoch 7/100\n",
      "3937/3937 [==============================] - 132s 32ms/step - loss: 0.636 - accuracy: 0.139 - val_loss: 0.6656 - val_accuracy: 0.1336\n",
      "Epoch 8/100\n",
      "3937/3937 [==============================] - 135s 32ms/step - loss: 0.6359 - accuracy: 0.1482 - val_loss: 0.6594 - val_accuracy: 0.1424\n",
      "Epoch 9/100\n",
      "3937/3937 [==============================] - 138s 32ms/step - loss: 0.6345 - accuracy: 0.1497 - val_loss: 0.654 - val_accuracy: 0.1436\n",
      "Epoch 10/100\n",
      "3937/3937 [==============================] - 132s 32ms/step - loss: 0.6277 - accuracy: 0.1525 - val_loss: 0.652 - val_accuracy: 0.1457\n",
      "Epoch 11/100\n",
      "3937/3937 [==============================] - 135s 32ms/step - loss: 0.6187 - accuracy: 0.1604 - val_loss: 0.6436 - val_accuracy: 0.1517\n",
      "Epoch 12/100\n",
      "3937/3937 [==============================] - 138s 32ms/step - loss: 0.6102 - accuracy: 0.1659 - val_loss: 0.6398 - val_accuracy: 0.1558\n",
      "Epoch 13/100\n",
      "3937/3937 [==============================] - 134s 32ms/step - loss: 0.6042 - accuracy: 0.1736 - val_loss: 0.6301 - val_accuracy: 0.1583\n",
      "Epoch 14/100\n",
      "3937/3937 [==============================] - 136s 32ms/step - loss: 0.6005 - accuracy: 0.1815 - val_loss: 0.6259 - val_accuracy: 0.1598\n",
      "Epoch 15/100\n",
      "3937/3937 [==============================] - 135s 32ms/step - loss: 0.5957 - accuracy: 0.1855 - val_loss: 0.6242 - val_accuracy: 0.1696\n",
      "Epoch 16/100\n",
      "3937/3937 [==============================] - 133s 32ms/step - loss: 0.591 - accuracy: 0.1862 - val_loss: 0.62 - val_accuracy: 0.1765\n",
      "Epoch 17/100\n",
      "3937/3937 [==============================] - 137s 32ms/step - loss: 0.5858 - accuracy: 0.1914 - val_loss: 0.6151 - val_accuracy: 0.1768\n",
      "Epoch 18/100\n",
      "3937/3937 [==============================] - 137s 32ms/step - loss: 0.5847 - accuracy: 0.1962 - val_loss: 0.6121 - val_accuracy: 0.179\n",
      "Epoch 19/100\n",
      "3937/3937 [==============================] - 136s 32ms/step - loss: 0.5807 - accuracy: 0.1991 - val_loss: 0.6111 - val_accuracy: 0.1799\n",
      "Epoch 20/100\n",
      "3937/3937 [==============================] - 136s 32ms/step - loss: 0.5771 - accuracy: 0.2073 - val_loss: 0.6091 - val_accuracy: 0.1838\n",
      "Epoch 21/100\n",
      "3937/3937 [==============================] - 134s 32ms/step - loss: 0.5673 - accuracy: 0.2117 - val_loss: 0.5995 - val_accuracy: 0.1931\n",
      "Epoch 22/100\n",
      "3937/3937 [==============================] - 132s 32ms/step - loss: 0.5649 - accuracy: 0.2172 - val_loss: 0.5966 - val_accuracy: 0.1941\n",
      "Epoch 23/100\n",
      "3937/3937 [==============================] - 139s 32ms/step - loss: 0.5551 - accuracy: 0.2181 - val_loss: 0.5954 - val_accuracy: 0.1988\n",
      "Epoch 24/100\n",
      "3937/3937 [==============================] - 131s 32ms/step - loss: 0.555 - accuracy: 0.219 - val_loss: 0.5921 - val_accuracy: 0.2055\n",
      "Epoch 25/100\n",
      "3937/3937 [==============================] - 138s 32ms/step - loss: 0.5525 - accuracy: 0.2209 - val_loss: 0.5848 - val_accuracy: 0.2126\n",
      "Epoch 26/100\n",
      "3937/3937 [==============================] - 135s 32ms/step - loss: 0.5474 - accuracy: 0.2246 - val_loss: 0.5806 - val_accuracy: 0.2195\n",
      "Epoch 27/100\n",
      "3937/3937 [==============================] - 137s 32ms/step - loss: 0.5377 - accuracy: 0.2319 - val_loss: 0.5723 - val_accuracy: 0.2224\n",
      "Epoch 28/100\n",
      "3937/3937 [==============================] - 139s 32ms/step - loss: 0.5365 - accuracy: 0.2394 - val_loss: 0.5722 - val_accuracy: 0.2302\n",
      "Epoch 29/100\n",
      "3937/3937 [==============================] - 138s 32ms/step - loss: 0.534 - accuracy: 0.2458 - val_loss: 0.5657 - val_accuracy: 0.2308\n",
      "Epoch 30/100\n",
      "3937/3937 [==============================] - 139s 32ms/step - loss: 0.5262 - accuracy: 0.2497 - val_loss: 0.5563 - val_accuracy: 0.2313\n",
      "Epoch 31/100\n",
      "3937/3937 [==============================] - 137s 32ms/step - loss: 0.5231 - accuracy: 0.2594 - val_loss: 0.5489 - val_accuracy: 0.2402\n",
      "Epoch 32/100\n",
      "3937/3937 [==============================] - 138s 32ms/step - loss: 0.5197 - accuracy: 0.2642 - val_loss: 0.5443 - val_accuracy: 0.2463\n",
      "Epoch 33/100\n",
      "3937/3937 [==============================] - 138s 32ms/step - loss: 0.5129 - accuracy: 0.2649 - val_loss: 0.5378 - val_accuracy: 0.2539\n",
      "Epoch 34/100\n",
      "3937/3937 [==============================] - 136s 32ms/step - loss: 0.5092 - accuracy: 0.271 - val_loss: 0.536 - val_accuracy: 0.2541\n",
      "Epoch 35/100\n",
      "3937/3937 [==============================] - 134s 32ms/step - loss: 0.5071 - accuracy: 0.2755 - val_loss: 0.5278 - val_accuracy: 0.2583\n",
      "Epoch 36/100\n",
      "3937/3937 [==============================] - 133s 32ms/step - loss: 0.5017 - accuracy: 0.2809 - val_loss: 0.5227 - val_accuracy: 0.2682\n",
      "Epoch 37/100\n",
      "3937/3937 [==============================] - 139s 32ms/step - loss: 0.4974 - accuracy: 0.2878 - val_loss: 0.5224 - val_accuracy: 0.2701\n",
      "Epoch 38/100\n",
      "3937/3937 [==============================] - 133s 32ms/step - loss: 0.4941 - accuracy: 0.2945 - val_loss: 0.5171 - val_accuracy: 0.2744\n",
      "Epoch 39/100\n",
      "3937/3937 [==============================] - 139s 32ms/step - loss: 0.4863 - accuracy: 0.3023 - val_loss: 0.5084 - val_accuracy: 0.2754\n",
      "Epoch 40/100\n",
      "3937/3937 [==============================] - 135s 32ms/step - loss: 0.4793 - accuracy: 0.3028 - val_loss: 0.5059 - val_accuracy: 0.2813\n",
      "Epoch 41/100\n",
      "3937/3937 [==============================] - 132s 32ms/step - loss: 0.4776 - accuracy: 0.3094 - val_loss: 0.4977 - val_accuracy: 0.2895\n",
      "Epoch 42/100\n",
      "3937/3937 [==============================] - 139s 32ms/step - loss: 0.4692 - accuracy: 0.3165 - val_loss: 0.4937 - val_accuracy: 0.2943\n",
      "Epoch 43/100\n",
      "3937/3937 [==============================] - 131s 32ms/step - loss: 0.4655 - accuracy: 0.3219 - val_loss: 0.4847 - val_accuracy: 0.2958\n",
      "Epoch 44/100\n",
      "3937/3937 [==============================] - 137s 32ms/step - loss: 0.4575 - accuracy: 0.3222 - val_loss: 0.4819 - val_accuracy: 0.303\n",
      "Epoch 45/100\n",
      "3937/3937 [==============================] - 137s 32ms/step - loss: 0.4535 - accuracy: 0.3292 - val_loss: 0.4748 - val_accuracy: 0.3082\n",
      "Epoch 46/100\n",
      "3937/3937 [==============================] - 132s 32ms/step - loss: 0.4507 - accuracy: 0.3352 - val_loss: 0.472 - val_accuracy: 0.3115\n",
      "Epoch 47/100\n",
      "3937/3937 [==============================] - 132s 32ms/step - loss: 0.4424 - accuracy: 0.3424 - val_loss: 0.4681 - val_accuracy: 0.3142\n",
      "Epoch 48/100\n",
      "3937/3937 [==============================] - 130s 32ms/step - loss: 0.4409 - accuracy: 0.347 - val_loss: 0.4614 - val_accuracy: 0.3222\n",
      "Epoch 49/100\n",
      "3937/3937 [==============================] - 138s 32ms/step - loss: 0.4316 - accuracy: 0.3504 - val_loss: 0.4602 - val_accuracy: 0.3287\n",
      "Epoch 50/100\n",
      "3937/3937 [==============================] - 135s 32ms/step - loss: 0.4313 - accuracy: 0.3582 - val_loss: 0.452 - val_accuracy: 0.3303\n",
      "Epoch 51/100\n",
      "3937/3937 [==============================] - 132s 32ms/step - loss: 0.4305 - accuracy: 0.3662 - val_loss: 0.4512 - val_accuracy: 0.3395\n",
      "Epoch 52/100\n",
      "3937/3937 [==============================] - 139s 32ms/step - loss: 0.4218 - accuracy: 0.3725 - val_loss: 0.4444 - val_accuracy: 0.3489\n",
      "Epoch 53/100\n",
      "3937/3937 [==============================] - 135s 32ms/step - loss: 0.4179 - accuracy: 0.3757 - val_loss: 0.4398 - val_accuracy: 0.3546\n",
      "Epoch 54/100\n",
      "3937/3937 [==============================] - 136s 32ms/step - loss: 0.4115 - accuracy: 0.3826 - val_loss: 0.4324 - val_accuracy: 0.3616\n",
      "Epoch 55/100\n",
      "3937/3937 [==============================] - 132s 32ms/step - loss: 0.4054 - accuracy: 0.3831 - val_loss: 0.4312 - val_accuracy: 0.3664\n",
      "Epoch 56/100\n",
      "3937/3937 [==============================] - 137s 32ms/step - loss: 0.3983 - accuracy: 0.388 - val_loss: 0.4265 - val_accuracy: 0.3692\n",
      "Epoch 57/100\n",
      "3937/3937 [==============================] - 135s 32ms/step - loss: 0.3893 - accuracy: 0.3898 - val_loss: 0.4186 - val_accuracy: 0.3784\n",
      "Epoch 58/100\n",
      "3937/3937 [==============================] - 134s 32ms/step - loss: 0.3813 - accuracy: 0.395 - val_loss: 0.417 - val_accuracy: 0.3882\n",
      "Epoch 59/100\n",
      "3937/3937 [==============================] - 134s 32ms/step - loss: 0.3791 - accuracy: 0.3989 - val_loss: 0.4128 - val_accuracy: 0.3899\n",
      "Epoch 60/100\n",
      "3937/3937 [==============================] - 131s 32ms/step - loss: 0.3704 - accuracy: 0.404 - val_loss: 0.4034 - val_accuracy: 0.3934\n",
      "Epoch 61/100\n",
      "3937/3937 [==============================] - 138s 32ms/step - loss: 0.3628 - accuracy: 0.4052 - val_loss: 0.4008 - val_accuracy: 0.3958\n",
      "Epoch 62/100\n",
      "3937/3937 [==============================] - 138s 32ms/step - loss: 0.3558 - accuracy: 0.4124 - val_loss: 0.3954 - val_accuracy: 0.4017\n",
      "Epoch 63/100\n",
      "3937/3937 [==============================] - 134s 32ms/step - loss: 0.3536 - accuracy: 0.4136 - val_loss: 0.3904 - val_accuracy: 0.409\n",
      "Epoch 64/100\n",
      "3937/3937 [==============================] - 136s 32ms/step - loss: 0.3531 - accuracy: 0.4147 - val_loss: 0.3859 - val_accuracy: 0.4145\n",
      "Epoch 65/100\n",
      "3937/3937 [==============================] - 132s 32ms/step - loss: 0.3494 - accuracy: 0.4169 - val_loss: 0.3848 - val_accuracy: 0.4171\n",
      "Epoch 66/100\n",
      "3937/3937 [==============================] - 137s 32ms/step - loss: 0.344 - accuracy: 0.4206 - val_loss: 0.3748 - val_accuracy: 0.4177\n",
      "Epoch 67/100\n",
      "3937/3937 [==============================] - 134s 32ms/step - loss: 0.3408 - accuracy: 0.4239 - val_loss: 0.3665 - val_accuracy: 0.4244\n",
      "Epoch 68/100\n",
      "3937/3937 [==============================] - 139s 32ms/step - loss: 0.3388 - accuracy: 0.4321 - val_loss: 0.3591 - val_accuracy: 0.4339\n",
      "Epoch 69/100\n",
      "3937/3937 [==============================] - 138s 32ms/step - loss: 0.3321 - accuracy: 0.4346 - val_loss: 0.3515 - val_accuracy: 0.4379\n",
      "Epoch 70/100\n",
      "3937/3937 [==============================] - 137s 32ms/step - loss: 0.3294 - accuracy: 0.4346 - val_loss: 0.3515 - val_accuracy: 0.4424\n",
      "Epoch 71/100\n",
      "3937/3937 [==============================] - 139s 32ms/step - loss: 0.326 - accuracy: 0.4387 - val_loss: 0.3441 - val_accuracy: 0.4466\n",
      "Epoch 72/100\n",
      "3937/3937 [==============================] - 134s 32ms/step - loss: 0.3184 - accuracy: 0.4413 - val_loss: 0.3422 - val_accuracy: 0.4534\n",
      "Epoch 73/100\n",
      "3937/3937 [==============================] - 133s 32ms/step - loss: 0.3157 - accuracy: 0.4462 - val_loss: 0.3349 - val_accuracy: 0.4613\n",
      "Epoch 74/100\n",
      "3937/3937 [==============================] - 138s 32ms/step - loss: 0.3125 - accuracy: 0.4537 - val_loss: 0.3297 - val_accuracy: 0.463\n",
      "Epoch 75/100\n",
      "3937/3937 [==============================] - 136s 32ms/step - loss: 0.3048 - accuracy: 0.461 - val_loss: 0.3252 - val_accuracy: 0.4705\n",
      "Epoch 76/100\n",
      "3937/3937 [==============================] - 130s 32ms/step - loss: 0.3039 - accuracy: 0.4683 - val_loss: 0.3161 - val_accuracy: 0.4742\n",
      "Epoch 77/100\n",
      "3937/3937 [==============================] - 139s 32ms/step - loss: 0.3031 - accuracy: 0.4772 - val_loss: 0.3081 - val_accuracy: 0.4769\n",
      "Epoch 78/100\n",
      "3937/3937 [==============================] - 138s 32ms/step - loss: 0.2942 - accuracy: 0.4781 - val_loss: 0.3045 - val_accuracy: 0.4865\n",
      "Epoch 79/100\n",
      "3937/3937 [==============================] - 133s 32ms/step - loss: 0.2843 - accuracy: 0.485 - val_loss: 0.2996 - val_accuracy: 0.4955\n",
      "Epoch 80/100\n",
      "3937/3937 [==============================] - 137s 32ms/step - loss: 0.2804 - accuracy: 0.4902 - val_loss: 0.2923 - val_accuracy: 0.5024\n",
      "Epoch 81/100\n",
      "3937/3937 [==============================] - 138s 32ms/step - loss: 0.2707 - accuracy: 0.495 - val_loss: 0.286 - val_accuracy: 0.5057\n",
      "Epoch 82/100\n",
      "3937/3937 [==============================] - 135s 32ms/step - loss: 0.2641 - accuracy: 0.5005 - val_loss: 0.2768 - val_accuracy: 0.5091\n",
      "Epoch 83/100\n",
      "3937/3937 [==============================] - 133s 32ms/step - loss: 0.2568 - accuracy: 0.5011 - val_loss: 0.2719 - val_accuracy: 0.5162\n",
      "Epoch 84/100\n",
      "3937/3937 [==============================] - 134s 32ms/step - loss: 0.2528 - accuracy: 0.5067 - val_loss: 0.265 - val_accuracy: 0.5214\n",
      "Epoch 85/100\n",
      "3937/3937 [==============================] - 139s 32ms/step - loss: 0.2503 - accuracy: 0.5098 - val_loss: 0.2561 - val_accuracy: 0.531\n",
      "Epoch 86/100\n",
      "3937/3937 [==============================] - 137s 32ms/step - loss: 0.248 - accuracy: 0.5106 - val_loss: 0.2496 - val_accuracy: 0.5406\n",
      "Epoch 87/100\n",
      "3937/3937 [==============================] - 130s 32ms/step - loss: 0.2398 - accuracy: 0.5109 - val_loss: 0.2451 - val_accuracy: 0.5427\n",
      "Epoch 88/100\n",
      "3937/3937 [==============================] - 133s 32ms/step - loss: 0.2312 - accuracy: 0.5149 - val_loss: 0.2415 - val_accuracy: 0.5441\n",
      "Epoch 89/100\n",
      "3937/3937 [==============================] - 130s 32ms/step - loss: 0.2226 - accuracy: 0.5195 - val_loss: 0.2411 - val_accuracy: 0.5519\n",
      "Epoch 90/100\n",
      "3937/3937 [==============================] - 133s 32ms/step - loss: 0.2128 - accuracy: 0.5278 - val_loss: 0.2346 - val_accuracy: 0.5601\n",
      "Epoch 91/100\n",
      "3937/3937 [==============================] - 132s 32ms/step - loss: 0.2108 - accuracy: 0.535 - val_loss: 0.2257 - val_accuracy: 0.5694\n",
      "Epoch 92/100\n",
      "3937/3937 [==============================] - 134s 32ms/step - loss: 0.2105 - accuracy: 0.5419 - val_loss: 0.217 - val_accuracy: 0.5731\n",
      "Epoch 93/100\n",
      "3937/3937 [==============================] - 136s 32ms/step - loss: 0.2056 - accuracy: 0.5491 - val_loss: 0.2142 - val_accuracy: 0.5808\n",
      "Epoch 94/100\n",
      "3937/3937 [==============================] - 138s 32ms/step - loss: 0.1961 - accuracy: 0.5512 - val_loss: 0.2093 - val_accuracy: 0.5858\n",
      "Epoch 95/100\n",
      "3937/3937 [==============================] - 131s 32ms/step - loss: 0.1941 - accuracy: 0.555 - val_loss: 0.2066 - val_accuracy: 0.5899\n",
      "Epoch 96/100\n",
      "3937/3937 [==============================] - 131s 32ms/step - loss: 0.1863 - accuracy: 0.5574 - val_loss: 0.2037 - val_accuracy: 0.591\n",
      "Epoch 97/100\n",
      "3937/3937 [==============================] - 134s 32ms/step - loss: 0.1854 - accuracy: 0.5624 - val_loss: 0.1956 - val_accuracy: 0.5989\n",
      "Epoch 98/100\n",
      "3937/3937 [==============================] - 135s 32ms/step - loss: 0.1826 - accuracy: 0.5692 - val_loss: 0.1878 - val_accuracy: 0.6015\n",
      "Epoch 99/100\n",
      "3937/3937 [==============================] - 135s 32ms/step - loss: 0.1787 - accuracy: 0.5752 - val_loss: 0.1807 - val_accuracy: 0.6082\n",
      "Epoch 100/100\n",
      "3937/3937 [==============================] - 138s 32ms/step - loss: 0.1744 - accuracy: 0.5826 - val_loss: 0.1783 - val_accuracy: 0.6136\n"
     ]
    }
   ],
   "source": [
    "opt = tf.keras.optimizers.Adam(learning_rate=0.001, decay=1e-6)\n",
    "\n",
    "model.compile(\n",
    "    loss='binary_crossentropy',\n",
    "    optimizer=opt,\n",
    "    metrics=['accuracy'],\n",
    ")\n",
    "\n",
    "model.fit(x_train,\n",
    "          y_train,\n",
    "          epochs=100,\n",
    "          validation_data=(x_test, y_test))\n"
   ]
  },
  {
   "cell_type": "code",
   "execution_count": null,
   "id": "173e2422",
   "metadata": {},
   "outputs": [],
   "source": []
  },
  {
   "cell_type": "code",
   "execution_count": null,
   "id": "a505837a",
   "metadata": {},
   "outputs": [],
   "source": []
  }
 ],
 "metadata": {
  "kernelspec": {
   "display_name": "Python 3 (ipykernel)",
   "language": "python",
   "name": "python3"
  },
  "language_info": {
   "codemirror_mode": {
    "name": "ipython",
    "version": 3
   },
   "file_extension": ".py",
   "mimetype": "text/x-python",
   "name": "python",
   "nbconvert_exporter": "python",
   "pygments_lexer": "ipython3",
   "version": "3.10.5"
  }
 },
 "nbformat": 4,
 "nbformat_minor": 5
}
